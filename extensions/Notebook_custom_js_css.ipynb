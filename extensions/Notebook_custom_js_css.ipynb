{
 "cells": [
  {
   "cell_type": "markdown",
   "metadata": {},
   "source": [
    "# T[it]l(e) 1 - 1 cell\n",
    "\n",
    "Foo\n",
    "\n",
    "## Title 2 - 1 cell\n",
    "\n",
    "Bar\n",
    "\n",
    "### Title 3 - 1 cell"
   ]
  },
  {
   "cell_type": "code",
   "execution_count": 1,
   "metadata": {
    "collapsed": true
   },
   "outputs": [],
   "source": [
    "import pandas as pd\n",
    "import colorlover as cl\n",
    "from IPython.display import HTML"
   ]
  },
  {
   "cell_type": "markdown",
   "metadata": {},
   "source": [
    "#### Choosing the colors for the headers"
   ]
  },
  {
   "cell_type": "code",
   "execution_count": 2,
   "metadata": {
    "collapsed": false
   },
   "outputs": [
    {
     "data": {
      "text/html": [
       "<div style=\"display:inline-block;padding:10px;\"><div>Reds</div><div style=\"background-color:rgb(254,224,210);height:20px;width:20px;display:inline-block;\"></div><div style=\"background-color:rgb(252,146,114);height:20px;width:20px;display:inline-block;\"></div><div style=\"background-color:rgb(222,45,38);height:20px;width:20px;display:inline-block;\"></div></div><div style=\"display:inline-block;padding:10px;\"><div>YlOrRd</div><div style=\"background-color:rgb(255,237,160);height:20px;width:20px;display:inline-block;\"></div><div style=\"background-color:rgb(254,178,76);height:20px;width:20px;display:inline-block;\"></div><div style=\"background-color:rgb(240,59,32);height:20px;width:20px;display:inline-block;\"></div></div><div style=\"display:inline-block;padding:10px;\"><div>RdPu</div><div style=\"background-color:rgb(253,224,221);height:20px;width:20px;display:inline-block;\"></div><div style=\"background-color:rgb(250,159,181);height:20px;width:20px;display:inline-block;\"></div><div style=\"background-color:rgb(197,27,138);height:20px;width:20px;display:inline-block;\"></div></div><div style=\"display:inline-block;padding:10px;\"><div>YlOrBr</div><div style=\"background-color:rgb(255,247,188);height:20px;width:20px;display:inline-block;\"></div><div style=\"background-color:rgb(254,196,79);height:20px;width:20px;display:inline-block;\"></div><div style=\"background-color:rgb(217,95,14);height:20px;width:20px;display:inline-block;\"></div></div><div style=\"display:inline-block;padding:10px;\"><div>Greens</div><div style=\"background-color:rgb(229,245,224);height:20px;width:20px;display:inline-block;\"></div><div style=\"background-color:rgb(161,217,155);height:20px;width:20px;display:inline-block;\"></div><div style=\"background-color:rgb(49,163,84);height:20px;width:20px;display:inline-block;\"></div></div><div style=\"display:inline-block;padding:10px;\"><div>YlGnBu</div><div style=\"background-color:rgb(237,248,177);height:20px;width:20px;display:inline-block;\"></div><div style=\"background-color:rgb(127,205,187);height:20px;width:20px;display:inline-block;\"></div><div style=\"background-color:rgb(44,127,184);height:20px;width:20px;display:inline-block;\"></div></div><div style=\"display:inline-block;padding:10px;\"><div>GnBu</div><div style=\"background-color:rgb(224,243,219);height:20px;width:20px;display:inline-block;\"></div><div style=\"background-color:rgb(168,221,181);height:20px;width:20px;display:inline-block;\"></div><div style=\"background-color:rgb(67,162,202);height:20px;width:20px;display:inline-block;\"></div></div><div style=\"display:inline-block;padding:10px;\"><div>BuPu</div><div style=\"background-color:rgb(224,236,244);height:20px;width:20px;display:inline-block;\"></div><div style=\"background-color:rgb(158,188,218);height:20px;width:20px;display:inline-block;\"></div><div style=\"background-color:rgb(136,86,167);height:20px;width:20px;display:inline-block;\"></div></div><div style=\"display:inline-block;padding:10px;\"><div>Greys</div><div style=\"background-color:rgb(240,240,240);height:20px;width:20px;display:inline-block;\"></div><div style=\"background-color:rgb(189,189,189);height:20px;width:20px;display:inline-block;\"></div><div style=\"background-color:rgb(99,99,99);height:20px;width:20px;display:inline-block;\"></div></div><div style=\"display:inline-block;padding:10px;\"><div>Oranges</div><div style=\"background-color:rgb(254,230,206);height:20px;width:20px;display:inline-block;\"></div><div style=\"background-color:rgb(253,174,107);height:20px;width:20px;display:inline-block;\"></div><div style=\"background-color:rgb(230,85,13);height:20px;width:20px;display:inline-block;\"></div></div><div style=\"display:inline-block;padding:10px;\"><div>OrRd</div><div style=\"background-color:rgb(254,232,200);height:20px;width:20px;display:inline-block;\"></div><div style=\"background-color:rgb(253,187,132);height:20px;width:20px;display:inline-block;\"></div><div style=\"background-color:rgb(227,74,51);height:20px;width:20px;display:inline-block;\"></div></div><div style=\"display:inline-block;padding:10px;\"><div>BuGn</div><div style=\"background-color:rgb(229,245,249);height:20px;width:20px;display:inline-block;\"></div><div style=\"background-color:rgb(153,216,201);height:20px;width:20px;display:inline-block;\"></div><div style=\"background-color:rgb(44,162,95);height:20px;width:20px;display:inline-block;\"></div></div><div style=\"display:inline-block;padding:10px;\"><div>PuBu</div><div style=\"background-color:rgb(236,231,242);height:20px;width:20px;display:inline-block;\"></div><div style=\"background-color:rgb(166,189,219);height:20px;width:20px;display:inline-block;\"></div><div style=\"background-color:rgb(43,140,190);height:20px;width:20px;display:inline-block;\"></div></div><div style=\"display:inline-block;padding:10px;\"><div>PuRd</div><div style=\"background-color:rgb(231,225,239);height:20px;width:20px;display:inline-block;\"></div><div style=\"background-color:rgb(201,148,199);height:20px;width:20px;display:inline-block;\"></div><div style=\"background-color:rgb(221,28,119);height:20px;width:20px;display:inline-block;\"></div></div><div style=\"display:inline-block;padding:10px;\"><div>Blues</div><div style=\"background-color:rgb(222,235,247);height:20px;width:20px;display:inline-block;\"></div><div style=\"background-color:rgb(158,202,225);height:20px;width:20px;display:inline-block;\"></div><div style=\"background-color:rgb(49,130,189);height:20px;width:20px;display:inline-block;\"></div></div><div style=\"display:inline-block;padding:10px;\"><div>PuBuGn</div><div style=\"background-color:rgb(236,226,240);height:20px;width:20px;display:inline-block;\"></div><div style=\"background-color:rgb(166,189,219);height:20px;width:20px;display:inline-block;\"></div><div style=\"background-color:rgb(28,144,153);height:20px;width:20px;display:inline-block;\"></div></div><div style=\"display:inline-block;padding:10px;\"><div>YlGn</div><div style=\"background-color:rgb(247,252,185);height:20px;width:20px;display:inline-block;\"></div><div style=\"background-color:rgb(173,221,142);height:20px;width:20px;display:inline-block;\"></div><div style=\"background-color:rgb(49,163,84);height:20px;width:20px;display:inline-block;\"></div></div><div style=\"display:inline-block;padding:10px;\"><div>Purples</div><div style=\"background-color:rgb(239,237,245);height:20px;width:20px;display:inline-block;\"></div><div style=\"background-color:rgb(188,189,220);height:20px;width:20px;display:inline-block;\"></div><div style=\"background-color:rgb(117,107,177);height:20px;width:20px;display:inline-block;\"></div></div>"
      ],
      "text/plain": [
       "<IPython.core.display.HTML object>"
      ]
     },
     "execution_count": 2,
     "metadata": {},
     "output_type": "execute_result"
    }
   ],
   "source": [
    "HTML(cl.to_html(cl.flipper()['seq']['3']))"
   ]
  },
  {
   "cell_type": "code",
   "execution_count": 3,
   "metadata": {
    "collapsed": false
   },
   "outputs": [
    {
     "data": {
      "text/html": [
       "<div style=\"display:inline-block;padding:10px;\"><div>RdYlBu</div><div style=\"background-color:rgb(252,141,89);height:20px;width:20px;display:inline-block;\"></div><div style=\"background-color:rgb(255,255,191);height:20px;width:20px;display:inline-block;\"></div><div style=\"background-color:rgb(145,191,219);height:20px;width:20px;display:inline-block;\"></div></div><div style=\"display:inline-block;padding:10px;\"><div>Spectral</div><div style=\"background-color:rgb(252,141,89);height:20px;width:20px;display:inline-block;\"></div><div style=\"background-color:rgb(255,255,191);height:20px;width:20px;display:inline-block;\"></div><div style=\"background-color:rgb(153,213,148);height:20px;width:20px;display:inline-block;\"></div></div><div style=\"display:inline-block;padding:10px;\"><div>RdYlGn</div><div style=\"background-color:rgb(252,141,89);height:20px;width:20px;display:inline-block;\"></div><div style=\"background-color:rgb(255,255,191);height:20px;width:20px;display:inline-block;\"></div><div style=\"background-color:rgb(145,207,96);height:20px;width:20px;display:inline-block;\"></div></div><div style=\"display:inline-block;padding:10px;\"><div>PiYG</div><div style=\"background-color:rgb(233,163,201);height:20px;width:20px;display:inline-block;\"></div><div style=\"background-color:rgb(247,247,247);height:20px;width:20px;display:inline-block;\"></div><div style=\"background-color:rgb(161,215,106);height:20px;width:20px;display:inline-block;\"></div></div><div style=\"display:inline-block;padding:10px;\"><div>PuOr</div><div style=\"background-color:rgb(241,163,64);height:20px;width:20px;display:inline-block;\"></div><div style=\"background-color:rgb(247,247,247);height:20px;width:20px;display:inline-block;\"></div><div style=\"background-color:rgb(153,142,195);height:20px;width:20px;display:inline-block;\"></div></div><div style=\"display:inline-block;padding:10px;\"><div>PRGn</div><div style=\"background-color:rgb(175,141,195);height:20px;width:20px;display:inline-block;\"></div><div style=\"background-color:rgb(247,247,247);height:20px;width:20px;display:inline-block;\"></div><div style=\"background-color:rgb(127,191,123);height:20px;width:20px;display:inline-block;\"></div></div><div style=\"display:inline-block;padding:10px;\"><div>BrBG</div><div style=\"background-color:rgb(216,179,101);height:20px;width:20px;display:inline-block;\"></div><div style=\"background-color:rgb(245,245,245);height:20px;width:20px;display:inline-block;\"></div><div style=\"background-color:rgb(90,180,172);height:20px;width:20px;display:inline-block;\"></div></div><div style=\"display:inline-block;padding:10px;\"><div>RdBu</div><div style=\"background-color:rgb(239,138,98);height:20px;width:20px;display:inline-block;\"></div><div style=\"background-color:rgb(247,247,247);height:20px;width:20px;display:inline-block;\"></div><div style=\"background-color:rgb(103,169,207);height:20px;width:20px;display:inline-block;\"></div></div><div style=\"display:inline-block;padding:10px;\"><div>RdGy</div><div style=\"background-color:rgb(239,138,98);height:20px;width:20px;display:inline-block;\"></div><div style=\"background-color:rgb(255,255,255);height:20px;width:20px;display:inline-block;\"></div><div style=\"background-color:rgb(153,153,153);height:20px;width:20px;display:inline-block;\"></div></div>"
      ],
      "text/plain": [
       "<IPython.core.display.HTML object>"
      ]
     },
     "execution_count": 3,
     "metadata": {},
     "output_type": "execute_result"
    }
   ],
   "source": [
    "HTML(cl.to_html(cl.flipper()['div']['3']))"
   ]
  },
  {
   "cell_type": "code",
   "execution_count": 4,
   "metadata": {
    "collapsed": false
   },
   "outputs": [
    {
     "data": {
      "text/html": [
       "<div style=\"display:inline-block;padding:10px;\"><div>Pastel2</div><div style=\"background-color:rgb(179,226,205);height:20px;width:20px;display:inline-block;\"></div><div style=\"background-color:rgb(253,205,172);height:20px;width:20px;display:inline-block;\"></div><div style=\"background-color:rgb(203,213,232);height:20px;width:20px;display:inline-block;\"></div></div><div style=\"display:inline-block;padding:10px;\"><div>Paired</div><div style=\"background-color:rgb(166,206,227);height:20px;width:20px;display:inline-block;\"></div><div style=\"background-color:rgb(31,120,180);height:20px;width:20px;display:inline-block;\"></div><div style=\"background-color:rgb(178,223,138);height:20px;width:20px;display:inline-block;\"></div></div><div style=\"display:inline-block;padding:10px;\"><div>Pastel1</div><div style=\"background-color:rgb(251,180,174);height:20px;width:20px;display:inline-block;\"></div><div style=\"background-color:rgb(179,205,227);height:20px;width:20px;display:inline-block;\"></div><div style=\"background-color:rgb(204,235,197);height:20px;width:20px;display:inline-block;\"></div></div><div style=\"display:inline-block;padding:10px;\"><div>Set1</div><div style=\"background-color:rgb(228,26,28);height:20px;width:20px;display:inline-block;\"></div><div style=\"background-color:rgb(55,126,184);height:20px;width:20px;display:inline-block;\"></div><div style=\"background-color:rgb(77,175,74);height:20px;width:20px;display:inline-block;\"></div></div><div style=\"display:inline-block;padding:10px;\"><div>Set2</div><div style=\"background-color:rgb(102,194,165);height:20px;width:20px;display:inline-block;\"></div><div style=\"background-color:rgb(252,141,98);height:20px;width:20px;display:inline-block;\"></div><div style=\"background-color:rgb(141,160,203);height:20px;width:20px;display:inline-block;\"></div></div><div style=\"display:inline-block;padding:10px;\"><div>Set3</div><div style=\"background-color:rgb(141,211,199);height:20px;width:20px;display:inline-block;\"></div><div style=\"background-color:rgb(255,255,179);height:20px;width:20px;display:inline-block;\"></div><div style=\"background-color:rgb(190,186,218);height:20px;width:20px;display:inline-block;\"></div></div><div style=\"display:inline-block;padding:10px;\"><div>Dark2</div><div style=\"background-color:rgb(27,158,119);height:20px;width:20px;display:inline-block;\"></div><div style=\"background-color:rgb(217,95,2);height:20px;width:20px;display:inline-block;\"></div><div style=\"background-color:rgb(117,112,179);height:20px;width:20px;display:inline-block;\"></div></div><div style=\"display:inline-block;padding:10px;\"><div>Accent</div><div style=\"background-color:rgb(127,201,127);height:20px;width:20px;display:inline-block;\"></div><div style=\"background-color:rgb(190,174,212);height:20px;width:20px;display:inline-block;\"></div><div style=\"background-color:rgb(253,192,134);height:20px;width:20px;display:inline-block;\"></div></div>"
      ],
      "text/plain": [
       "<IPython.core.display.HTML object>"
      ]
     },
     "execution_count": 4,
     "metadata": {},
     "output_type": "execute_result"
    }
   ],
   "source": [
    "HTML(cl.to_html(cl.flipper()['qual']['3']))"
   ]
  },
  {
   "cell_type": "code",
   "execution_count": 5,
   "metadata": {
    "collapsed": true
   },
   "outputs": [],
   "source": [
    "def rgb2hex(rgb):\n",
    "    return '#%02x%02x%02x' % rgb"
   ]
  },
  {
   "cell_type": "code",
   "execution_count": 6,
   "metadata": {
    "collapsed": false
   },
   "outputs": [
    {
     "data": {
      "text/plain": [
       "{'Blues': ['#deebf7', '#9ecae1', '#3182bd'],\n",
       " 'BuGn': ['#e5f5f9', '#99d8c9', '#2ca25f'],\n",
       " 'BuPu': ['#e0ecf4', '#9ebcda', '#8856a7'],\n",
       " 'GnBu': ['#e0f3db', '#a8ddb5', '#43a2ca'],\n",
       " 'Greens': ['#e5f5e0', '#a1d99b', '#31a354'],\n",
       " 'Greys': ['#f0f0f0', '#bdbdbd', '#636363'],\n",
       " 'OrRd': ['#fee8c8', '#fdbb84', '#e34a33'],\n",
       " 'Oranges': ['#fee6ce', '#fdae6b', '#e6550d'],\n",
       " 'PuBu': ['#ece7f2', '#a6bddb', '#2b8cbe'],\n",
       " 'PuBuGn': ['#ece2f0', '#a6bddb', '#1c9099'],\n",
       " 'PuRd': ['#e7e1ef', '#c994c7', '#dd1c77'],\n",
       " 'Purples': ['#efedf5', '#bcbddc', '#756bb1'],\n",
       " 'RdPu': ['#fde0dd', '#fa9fb5', '#c51b8a'],\n",
       " 'Reds': ['#fee0d2', '#fc9272', '#de2d26'],\n",
       " 'YlGn': ['#f7fcb9', '#addd8e', '#31a354'],\n",
       " 'YlGnBu': ['#edf8b1', '#7fcdbb', '#2c7fb8'],\n",
       " 'YlOrBr': ['#fff7bc', '#fec44f', '#d95f0e'],\n",
       " 'YlOrRd': ['#ffeda0', '#feb24c', '#f03b20']}"
      ]
     },
     "execution_count": 6,
     "metadata": {},
     "output_type": "execute_result"
    }
   ],
   "source": [
    "colors = cl.flipper()['seq']['3'].keys()\n",
    "{cc: map(rgb2hex, cl.to_numeric(cl.flipper()['seq']['3'][cc])) for cc in colors}"
   ]
  },
  {
   "cell_type": "markdown",
   "metadata": {},
   "source": [
    "# Title 1"
   ]
  },
  {
   "cell_type": "markdown",
   "metadata": {},
   "source": [
    "## Title 2 - A"
   ]
  },
  {
   "cell_type": "markdown",
   "metadata": {},
   "source": [
    "#### Interact with the Pandas DataFrame (colors in the indices and columns, and for the mouse hover)"
   ]
  },
  {
   "cell_type": "code",
   "execution_count": 7,
   "metadata": {
    "collapsed": false
   },
   "outputs": [
    {
     "data": {
      "text/html": [
       "<div>\n",
       "<table border=\"1\" class=\"dataframe\">\n",
       "  <thead>\n",
       "    <tr style=\"text-align: right;\">\n",
       "      <th></th>\n",
       "      <th>Upper case</th>\n",
       "      <th>A</th>\n",
       "      <th>B</th>\n",
       "    </tr>\n",
       "    <tr>\n",
       "      <th>Index lower case</th>\n",
       "      <th>Index number</th>\n",
       "      <th></th>\n",
       "      <th></th>\n",
       "    </tr>\n",
       "  </thead>\n",
       "  <tbody>\n",
       "    <tr>\n",
       "      <th rowspan=\"2\" valign=\"top\">a</th>\n",
       "      <th>0</th>\n",
       "      <td>11</td>\n",
       "      <td>55</td>\n",
       "    </tr>\n",
       "    <tr>\n",
       "      <th>1</th>\n",
       "      <td>22</td>\n",
       "      <td>66</td>\n",
       "    </tr>\n",
       "    <tr>\n",
       "      <th rowspan=\"2\" valign=\"top\">b</th>\n",
       "      <th>2</th>\n",
       "      <td>33</td>\n",
       "      <td>77</td>\n",
       "    </tr>\n",
       "    <tr>\n",
       "      <th>3</th>\n",
       "      <td>44</td>\n",
       "      <td>88</td>\n",
       "    </tr>\n",
       "  </tbody>\n",
       "</table>\n",
       "</div>"
      ],
      "text/plain": [
       "Upper case                      A   B\n",
       "Index lower case Index number        \n",
       "a                0             11  55\n",
       "                 1             22  66\n",
       "b                2             33  77\n",
       "                 3             44  88"
      ]
     },
     "execution_count": 7,
     "metadata": {},
     "output_type": "execute_result"
    }
   ],
   "source": [
    "idx = ['Index lower case', 'Index number']\n",
    "\n",
    "df = pd.DataFrame({'A': [11, 22, 33, 44],\n",
    "                   'B': [55, 66, 77, 88],\n",
    "                   idx[0]: ['a', 'a', 'b', 'b']})\n",
    "df.columns.name = 'Upper case'\n",
    "df.index.name = idx[1]\n",
    "df = df.reset_index().set_index(idx)\n",
    "df"
   ]
  },
  {
   "cell_type": "code",
   "execution_count": 8,
   "metadata": {
    "collapsed": false
   },
   "outputs": [
    {
     "data": {
      "text/html": [
       "<div>\n",
       "<table border=\"1\" class=\"dataframe\">\n",
       "  <thead>\n",
       "    <tr>\n",
       "      <th>Index lower case</th>\n",
       "      <th colspan=\"2\" halign=\"left\">a</th>\n",
       "      <th colspan=\"2\" halign=\"left\">b</th>\n",
       "    </tr>\n",
       "    <tr>\n",
       "      <th>Index number</th>\n",
       "      <th>0</th>\n",
       "      <th>1</th>\n",
       "      <th>2</th>\n",
       "      <th>3</th>\n",
       "    </tr>\n",
       "    <tr>\n",
       "      <th>Upper case</th>\n",
       "      <th></th>\n",
       "      <th></th>\n",
       "      <th></th>\n",
       "      <th></th>\n",
       "    </tr>\n",
       "  </thead>\n",
       "  <tbody>\n",
       "    <tr>\n",
       "      <th>A</th>\n",
       "      <td>11</td>\n",
       "      <td>22</td>\n",
       "      <td>33</td>\n",
       "      <td>44</td>\n",
       "    </tr>\n",
       "    <tr>\n",
       "      <th>B</th>\n",
       "      <td>55</td>\n",
       "      <td>66</td>\n",
       "      <td>77</td>\n",
       "      <td>88</td>\n",
       "    </tr>\n",
       "  </tbody>\n",
       "</table>\n",
       "</div>"
      ],
      "text/plain": [
       "Index lower case   a       b    \n",
       "Index number       0   1   2   3\n",
       "Upper case                      \n",
       "A                 11  22  33  44\n",
       "B                 55  66  77  88"
      ]
     },
     "execution_count": 8,
     "metadata": {},
     "output_type": "execute_result"
    }
   ],
   "source": [
    "df.T"
   ]
  },
  {
   "cell_type": "markdown",
   "metadata": {},
   "source": [
    "### Title 3 - a"
   ]
  },
  {
   "cell_type": "markdown",
   "metadata": {},
   "source": [
    "## Title 2 - B"
   ]
  },
  {
   "cell_type": "markdown",
   "metadata": {},
   "source": [
    "### Title 3 - b"
   ]
  },
  {
   "cell_type": "markdown",
   "metadata": {},
   "source": [
    "### Title 3 - c"
   ]
  },
  {
   "cell_type": "markdown",
   "metadata": {},
   "source": [
    "# Title 1 - Z"
   ]
  },
  {
   "cell_type": "markdown",
   "metadata": {},
   "source": [
    "## Title 2 - AZ"
   ]
  },
  {
   "cell_type": "markdown",
   "metadata": {},
   "source": [
    "### Title 3 - az"
   ]
  },
  {
   "cell_type": "markdown",
   "metadata": {},
   "source": [
    "#### Title 4 - az"
   ]
  },
  {
   "cell_type": "markdown",
   "metadata": {},
   "source": [
    "Text"
   ]
  },
  {
   "cell_type": "markdown",
   "metadata": {},
   "source": [
    "## Title 2 - BZ"
   ]
  },
  {
   "cell_type": "markdown",
   "metadata": {},
   "source": [
    "### Title 3 - bz"
   ]
  },
  {
   "cell_type": "markdown",
   "metadata": {},
   "source": [
    "### Title 3 - cz"
   ]
  }
 ],
 "metadata": {
  "kernelspec": {
   "display_name": "Python 2",
   "language": "python",
   "name": "python2"
  },
  "language_info": {
   "codemirror_mode": {
    "name": "ipython",
    "version": 2
   },
   "file_extension": ".py",
   "mimetype": "text/x-python",
   "name": "python",
   "nbconvert_exporter": "python",
   "pygments_lexer": "ipython2",
   "version": "2.7.11"
  }
 },
 "nbformat": 4,
 "nbformat_minor": 0
}
